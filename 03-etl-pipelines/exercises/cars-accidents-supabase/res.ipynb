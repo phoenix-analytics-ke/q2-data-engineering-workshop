{
 "cells": [
  {
   "cell_type": "code",
   "execution_count": 1,
   "metadata": {},
   "outputs": [],
   "source": [
    "import pandas as pd \n",
    "import numpy as np\n",
    "import psycopg2 as db \n",
    "\n"
   ]
  },
  {
   "cell_type": "markdown",
   "metadata": {},
   "source": [
    "user=postgres.vtthhncofpkrylaqpabj password=juM70PkREv4HDxVm host=aws-0-sa-east-1.pooler.supabase.com port=6543 dbname=postgres\n",
    "\n",
    "NOTE : table names is:  raw-car-accidents\n"
   ]
  },
  {
   "cell_type": "code",
   "execution_count": 2,
   "metadata": {},
   "outputs": [],
   "source": [
    "\n",
    "\n",
    "# Create a connection with the database\n",
    "dbase = db.connect(host=\"aws-0-sa-east-1.pooler.supabase.com\",\n",
    "                   database=\"postgres\",\n",
    "                    user = \"postgres.vtthhncofpkrylaqpabj\", \n",
    "                    password = \"juM70PkREv4HDxVm\",\n",
    "                    port= 6543)"
   ]
  },
  {
   "cell_type": "code",
   "execution_count": 3,
   "metadata": {},
   "outputs": [],
   "source": [
    "# Open a cursor to perform database operations\n",
    "cur = dbase.cursor()\n"
   ]
  },
  {
   "cell_type": "code",
   "execution_count": 4,
   "metadata": {},
   "outputs": [
    {
     "name": "stdout",
     "output_type": "stream",
     "text": [
      "[('raw_car_accidents',), ('cleaned_agric_data',), ('raw_agric_data',)]\n"
     ]
    }
   ],
   "source": [
    "query = f\"\"\"\n",
    "SELECT table_name \n",
    "FROM information_schema.tables \n",
    "WHERE table_schema = 'public';\n",
    "\n",
    "\"\"\"\n",
    "\n",
    "try:\n",
    "    cur.execute(query)\n",
    "    tables = cur.fetchall()\n",
    "    print(tables)\n",
    "except Exception as e:\n",
    "    print(e)"
   ]
  },
  {
   "cell_type": "code",
   "execution_count": 5,
   "metadata": {},
   "outputs": [],
   "source": [
    "\n",
    "\n",
    "try :\n",
    "    cur.execute(\"SELECT * FROM raw_car_accidents;\")\n",
    "    data = cur.fetchall()\n",
    "except Exception as e:\n",
    "    print(e)\n",
    "    print(\"Error in the query\")\n",
    "    dbase.rollback()\n",
    "    cur.close()\n",
    "    dbase.close()"
   ]
  },
  {
   "cell_type": "code",
   "execution_count": 6,
   "metadata": {},
   "outputs": [
    {
     "data": {
      "text/plain": [
       "[]"
      ]
     },
     "execution_count": 6,
     "metadata": {},
     "output_type": "execute_result"
    }
   ],
   "source": [
    "data"
   ]
  },
  {
   "cell_type": "code",
   "execution_count": null,
   "metadata": {},
   "outputs": [],
   "source": []
  }
 ],
 "metadata": {
  "kernelspec": {
   "display_name": "venv",
   "language": "python",
   "name": "python3"
  },
  "language_info": {
   "codemirror_mode": {
    "name": "ipython",
    "version": 3
   },
   "file_extension": ".py",
   "mimetype": "text/x-python",
   "name": "python",
   "nbconvert_exporter": "python",
   "pygments_lexer": "ipython3",
   "version": "3.12.1"
  }
 },
 "nbformat": 4,
 "nbformat_minor": 2
}
