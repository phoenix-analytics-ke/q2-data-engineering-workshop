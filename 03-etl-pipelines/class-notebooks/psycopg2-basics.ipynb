{
 "cells": [
  {
   "cell_type": "markdown",
   "id": "62a94937-8e05-46b6-aed3-5de1acb907d4",
   "metadata": {},
   "source": [
    "### Psycopg2 - Postgres Database Driver Overview"
   ]
  },
  {
   "cell_type": "markdown",
   "id": "99335bd3",
   "metadata": {},
   "source": [
    "`psycopg` is the Postgres database adapter for Python.\n",
    "\n",
    "For basic usage, take a look at the documentation in the link below.\n",
    "\n",
    "https://www.psycopg.org/psycopg3/docs/basic/usage.html"
   ]
  },
  {
   "cell_type": "code",
   "execution_count": 16,
   "id": "6f19243f-5f3c-43ac-b44c-341ac213211c",
   "metadata": {},
   "outputs": [],
   "source": [
    "# import the module\n",
    "import psycopg2 as db\n",
    "import pandas as pd"
   ]
  },
  {
   "cell_type": "code",
   "execution_count": 17,
   "id": "beabe340-cd2f-45f4-8b5a-63372819d056",
   "metadata": {},
   "outputs": [],
   "source": [
    "# Create a connection with the database\n",
    "dbase = db.connect(host=\"<ENTER_HOST>\",database=\"<ENTER_DB_NAME>\",\n",
    "                     user = \"<USER>\", password = \"<PASSWORD>\")"
   ]
  },
  {
   "cell_type": "code",
   "execution_count": 18,
   "id": "8ea86808-f192-4b87-b205-06eb6e1591d5",
   "metadata": {},
   "outputs": [],
   "source": [
    "# Open a cursor to perform database operations\n",
    "cur = dbase.cursor()"
   ]
  },
  {
   "cell_type": "code",
   "execution_count": 19,
   "id": "c54c246c-ee41-4f4f-9505-92c2f55795e8",
   "metadata": {},
   "outputs": [],
   "source": [
    "# Execute a command to create a new table \n",
    "cur.execute(\"CREATE TABLE test(id serial PRIMARY KEY, num integer, data varchar);\")"
   ]
  },
  {
   "cell_type": "code",
   "execution_count": 20,
   "id": "45cb230c-656c-4695-87c9-1cde02b28318",
   "metadata": {},
   "outputs": [],
   "source": [
    "# Pass data to fill a query placeholder and let psycodb2 perform the correct conversions\n",
    "cur.execute(\"INSERT INTO test(num ,data) VALUES(%s, %s)\", \n",
    "           (200, \"qwerty\"))"
   ]
  },
  {
   "cell_type": "code",
   "execution_count": 21,
   "id": "d334a54e-5fa3-41a0-bde4-8414ae20bff0",
   "metadata": {},
   "outputs": [],
   "source": [
    "# Query the database to obtain the data as python objects\n",
    "cur.execute(\"SELECT * FROM test;\")"
   ]
  },
  {
   "cell_type": "code",
   "execution_count": 22,
   "id": "1818b8df-7848-41d6-aceb-90a0eecf9bb7",
   "metadata": {},
   "outputs": [
    {
     "data": {
      "text/plain": [
       "(1, 200, 'qwerty')"
      ]
     },
     "execution_count": 22,
     "metadata": {},
     "output_type": "execute_result"
    }
   ],
   "source": [
    "cur.fetchone()"
   ]
  },
  {
   "cell_type": "code",
   "execution_count": 24,
   "id": "3d6cf547-2e18-421f-89c9-e4edfc043697",
   "metadata": {},
   "outputs": [],
   "source": [
    "# make the current changes to the database persist\"\n",
    "dbase.commit()"
   ]
  },
  {
   "cell_type": "code",
   "execution_count": 25,
   "id": "109ca8d2-7ad9-42ba-98b9-21c6a4d3d80c",
   "metadata": {},
   "outputs": [],
   "source": [
    "# close communication with the database\n",
    "cur.close()\n",
    "dbase.close()"
   ]
  }
 ],
 "metadata": {
  "kernelspec": {
   "display_name": "Python 3 (ipykernel)",
   "language": "python",
   "name": "python3"
  },
  "language_info": {
   "codemirror_mode": {
    "name": "ipython",
    "version": 3
   },
   "file_extension": ".py",
   "mimetype": "text/x-python",
   "name": "python",
   "nbconvert_exporter": "python",
   "pygments_lexer": "ipython3",
   "version": "3.10.9"
  }
 },
 "nbformat": 4,
 "nbformat_minor": 5
}
