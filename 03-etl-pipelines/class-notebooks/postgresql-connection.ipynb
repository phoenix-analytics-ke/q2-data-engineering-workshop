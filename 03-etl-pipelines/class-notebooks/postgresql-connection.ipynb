{
    "cells": [
        {
            "cell_type": "markdown",
            "metadata": {},
            "source": [
                "### Connecting to PostgreSQL"
            ]
        },
        {
            "cell_type": "code",
            "execution_count": 1,
            "metadata": {
                "collapsed": true
            },
            "outputs": [
                {
                    "name": "stdout",
                    "output_type": "stream",
                    "text": [
                        "Requirement already satisfied: psycopg2 in c:\\users\\tevin_solutech\\desktop\\tems\\bootcamp\\q2-data-engineering-workshop\\venv\\lib\\site-packages (2.9.9)\n"
                    ]
                },
                {
                    "name": "stderr",
                    "output_type": "stream",
                    "text": [
                        "\n",
                        "[notice] A new release of pip is available: 24.1.2 -> 24.2\n",
                        "[notice] To update, run: python.exe -m pip install --upgrade pip\n"
                    ]
                }
            ],
            "source": [
                "# install https://pypi.python.org/pypi/psycopg2/\n",
                "!pip install psycopg2"
            ]
        },
        {
            "cell_type": "code",
            "execution_count": 2,
            "metadata": {
                "collapsed": true
            },
            "outputs": [],
            "source": [
                "# http://initd.org/psycopg/docs/\n",
                "import psycopg2"
            ]
        },
        {
            "cell_type": "code",
            "execution_count": 3,
            "metadata": {
                "collapsed": true
            },
            "outputs": [],
            "source": [
                "# TODO:\n",
                "# (1) add a PostgreSQL connection to this project\n",
                "# (2) use \"insert to code\" to insert database connection credentials into this cell\n",
                "# (3) rename the \"credentials_X\" variable to \"credentials\"\n",
                "# @hidden_cell\n"
            ]
        },
        {
            "cell_type": "code",
            "execution_count": 4,
            "metadata": {},
            "outputs": [],
            "source": [
                "credentials ={\n",
                "    'database':'reader',\n",
                "    'username':'root',\n",
                "    'password':'postgres',\n",
                "    'host':'localhost',\n",
                "    'port':'5432'\n",
                "    \n",
                "}"
            ]
        },
        {
            "cell_type": "code",
            "execution_count": 5,
            "metadata": {},
            "outputs": [
                {
                    "data": {
                        "text/plain": [
                            "\"dbname='reader' user='root' host='localhost' port='5432' password='postgres'\""
                        ]
                    },
                    "execution_count": 5,
                    "metadata": {},
                    "output_type": "execute_result"
                }
            ],
            "source": [
                "# compose connection string\n",
                "connstr = \"dbname='{}' user='{}' host='{}' port='{}' password='{}'\".format(\n",
                "    credentials['database'],\n",
                "    credentials['username'],\n",
                "    credentials['host'],\n",
                "    credentials['port'],\n",
                "    credentials['password'])\n",
                "\n",
                "# display connection string\n",
                "connstr"
            ]
        },
        {
            "cell_type": "code",
            "execution_count": 6,
            "metadata": {},
            "outputs": [
                {
                    "name": "stdout",
                    "output_type": "stream",
                    "text": [
                        "Connection: OK\n"
                    ]
                }
            ],
            "source": [
                "# try to connect\n",
                "try:\n",
                "    conn = psycopg2.connect(connstr)\n",
                "    print(\"Connection: OK\")\n",
                "except Exception as e:\n",
                "    print(\"Connection: ERROR - {}\".format(e))"
            ]
        },
        {
            "cell_type": "code",
            "execution_count": 7,
            "metadata": {},
            "outputs": [
                {
                    "name": "stdout",
                    "output_type": "stream",
                    "text": [
                        "Number of tables in this database: 216\n"
                    ]
                }
            ],
            "source": [
                "# run a SQL statement\n",
                "try:\n",
                "    with conn.cursor() as cursor:\n",
                "        cursor.execute(\"SELECT COUNT(*) FROM INFORMATION_SCHEMA.TABLES\",)\n",
                "        result = cursor.fetchone()\n",
                "        print('Number of tables in this database: {}'.format(result[0]))\n",
                "except Exception as e:\n",
                "    print (\"Query: ERROR - {}\".format(e))"
            ]
        },
        {
            "cell_type": "code",
            "execution_count": 8,
            "metadata": {},
            "outputs": [],
            "source": [
                "conn.close()"
            ]
        },
        {
            "cell_type": "code",
            "execution_count": null,
            "metadata": {},
            "outputs": [],
            "source": []
        }
    ],
    "metadata": {
        "kernelspec": {
            "display_name": "venv",
            "language": "python",
            "name": "python3"
        },
        "language_info": {
            "codemirror_mode": {
                "name": "ipython",
                "version": 3
            },
            "file_extension": ".py",
            "mimetype": "text/x-python",
            "name": "python",
            "nbconvert_exporter": "python",
            "pygments_lexer": "ipython3",
            "version": "3.12.1"
        }
    },
    "nbformat": 4,
    "nbformat_minor": 1
}
