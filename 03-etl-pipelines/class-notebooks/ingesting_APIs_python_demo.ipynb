{
  "nbformat": 4,
  "nbformat_minor": 0,
  "metadata": {
    "colab": {
      "provenance": [],
      "collapsed_sections": [
        "WbTkzGompu0J"
      ]
    },
    "kernelspec": {
      "name": "python3",
      "display_name": "Python 3"
    },
    "language_info": {
      "name": "python"
    }
  },
  "cells": [
    {
      "cell_type": "code",
      "execution_count": null,
      "metadata": {
        "id": "u0h6M_enyBuB"
      },
      "outputs": [],
      "source": [
        "# import libraries\n",
        "import requests\n",
        "import pandas as pd\n",
        "import pprint"
      ]
    },
    {
      "cell_type": "markdown",
      "source": [
        "### A Little About Requests\n",
        "\n",
        "Requests allows you to send HTTP/1.1 requests easily. There’s no need to manually add query strings to your URLs, or to form-encode your `PUT` & `POST` data."
      ],
      "metadata": {
        "id": "Opzd4rVnzTaS"
      }
    },
    {
      "cell_type": "markdown",
      "source": [
        "### Example 1\n",
        "We are going to ingest data from this API.\n",
        "\n",
        " https://wizard-world-api.herokuapp.com/swagger/index.html\n",
        "\n",
        "\n",
        "\n",
        " DOCUMENTATION - THE SOURCE OF TRUTH\n",
        "\n",
        " --\n",
        " The first step is to examine the documentation of the API, this is found in the website of the API. The documentation contains useful information about the API :\n",
        " * endpoints\n",
        " * parameters\n",
        " * datatypes of the parameters\n",
        " * code snippets and tutorials  \n",
        "\n",
        "Our API in the link above has the following endpoints:\n",
        "* Elixirs\n",
        "* Houses\n",
        "* Ingredients\n",
        "* Spells\n",
        "* Wizards\n",
        "\n",
        "Lets take a close look at the Spells endpoint. From the documentation, we see that the endpoint accepts `name`, `type` and `incantation` - all are string datatypes.\n",
        "\n",
        "If we click `Try it Out` on the top right div, we can mock an example of a get request in the endpoint and see if we get a valid response.\n",
        "Since we are not familiar with any spells, leave the field empty and click on the execute button.\n",
        "\n",
        "In the response body, you should see data in json format,like a nested Python dictionary\n",
        "\n",
        "Above that we can see the query string.\n",
        "`https://wizard-world-api.herokuapp.com/Spells?Type=Spell`\n",
        "\n",
        "It is what we are interested in when making an API call\n",
        "\n"
      ],
      "metadata": {
        "id": "Ropid4jT0WDf"
      }
    },
    {
      "cell_type": "code",
      "source": [
        "# making first API call\n",
        "response = requests.get(\"https://wizard-world-api.herokuapp.com/Spells?Type=Spell\")\n",
        "response"
      ],
      "metadata": {
        "colab": {
          "base_uri": "https://localhost:8080/"
        },
        "id": "5L6-jAyY0Ref",
        "outputId": "377fbf45-8bbd-4069-9cd4-5da0328b35b5"
      },
      "execution_count": null,
      "outputs": [
        {
          "output_type": "execute_result",
          "data": {
            "text/plain": [
              "<Response [200]>"
            ]
          },
          "metadata": {},
          "execution_count": 31
        }
      ]
    },
    {
      "cell_type": "markdown",
      "source": [
        "### Response\n",
        "The response we get from the server is usually in the form of a number. The number is called a `status code`. Different status codes serve to inform us if our API call was successfull or not.\n",
        "\n",
        "* `200` - API call successfull\n",
        "* `402` - Client Error\n",
        "* `404` - Resource not found on server\n",
        "\n",
        "Find out more about status codes in the link below:\n",
        "\n",
        "https://en.wikipedia.org/wiki/List_of_HTTP_status_codes"
      ],
      "metadata": {
        "id": "WbTkzGompu0J"
      }
    },
    {
      "cell_type": "code",
      "source": [
        "# display the methods and attributes of the response object\n",
        "help(response)"
      ],
      "metadata": {
        "id": "jS3P3WtRpqKg"
      },
      "execution_count": null,
      "outputs": []
    },
    {
      "cell_type": "code",
      "source": [
        "# get the response content as text\n",
        "text = response.text\n",
        "text"
      ],
      "metadata": {
        "colab": {
          "base_uri": "https://localhost:8080/",
          "height": 125
        },
        "id": "3_OqBEuerKFB",
        "outputId": "8a02a594-519b-4ca4-d7c7-21f38ba4c529"
      },
      "execution_count": null,
      "outputs": [
        {
          "output_type": "execute_result",
          "data": {
            "text/plain": [
              "'[{\"id\":\"3ba417ce-8165-464d-9f29-daf23da1b2bc\",\"name\":\"Albus Dumbledore\\'s forceful spell\",\"incantation\":null,\"effect\":\"Great force\",\"canBeVerbal\":null,\"type\":\"Spell\",\"light\":\"Transparent\",\"creator\":null},{\"id\":\"0cc4ee69-4aa8-49e1-bb89-125793ed2e95\",\"name\":\"False memory spell\",\"incantation\":null,\"effect\":\"Implants a false memory in the victim\\'s mind\",\"canBeVerbal\":null,\"type\":\"Spell\",\"light\":\"None\",\"creator\":\"Mnemone Radford c. 1900s (possibly)\"},{\"id\":\"5984fe39-c7e6-4ff9-ad8d-35cca813a239\",\"name\":\"Shield penetration spell\",\"incantation\":null,\"effect\":\"Used to break down magical shields\",\"canBeVerbal\":null,\"type\":\"Spell\",\"light\":\"BlueishWhite\",\"creator\":null},{\"id\":\"e93e47e2-fcae-4c8c-ad0e-f6f4804b04b2\",\"name\":\"Shooting spell\",\"incantation\":null,\"effect\":\"Small explosion with a gunshot-sound\",\"canBeVerbal\":null,\"type\":\"Spell\",\"light\":\"Transparent\",\"creator\":null}]'"
            ],
            "application/vnd.google.colaboratory.intrinsic+json": {
              "type": "string"
            }
          },
          "metadata": {},
          "execution_count": 10
        }
      ]
    },
    {
      "cell_type": "code",
      "source": [
        "# We are interested in parsing the data as json\n",
        "data = response.json()\n",
        "data"
      ],
      "metadata": {
        "colab": {
          "base_uri": "https://localhost:8080/"
        },
        "id": "XqOk0FHvrTRy",
        "outputId": "2449f446-45e8-4b7e-f6c4-a2184dd381b4"
      },
      "execution_count": null,
      "outputs": [
        {
          "output_type": "execute_result",
          "data": {
            "text/plain": [
              "[{'id': '3ba417ce-8165-464d-9f29-daf23da1b2bc',\n",
              "  'name': \"Albus Dumbledore's forceful spell\",\n",
              "  'incantation': None,\n",
              "  'effect': 'Great force',\n",
              "  'canBeVerbal': None,\n",
              "  'type': 'Spell',\n",
              "  'light': 'Transparent',\n",
              "  'creator': None},\n",
              " {'id': '0cc4ee69-4aa8-49e1-bb89-125793ed2e95',\n",
              "  'name': 'False memory spell',\n",
              "  'incantation': None,\n",
              "  'effect': \"Implants a false memory in the victim's mind\",\n",
              "  'canBeVerbal': None,\n",
              "  'type': 'Spell',\n",
              "  'light': 'None',\n",
              "  'creator': 'Mnemone Radford c. 1900s (possibly)'},\n",
              " {'id': '5984fe39-c7e6-4ff9-ad8d-35cca813a239',\n",
              "  'name': 'Shield penetration spell',\n",
              "  'incantation': None,\n",
              "  'effect': 'Used to break down magical shields',\n",
              "  'canBeVerbal': None,\n",
              "  'type': 'Spell',\n",
              "  'light': 'BlueishWhite',\n",
              "  'creator': None},\n",
              " {'id': 'e93e47e2-fcae-4c8c-ad0e-f6f4804b04b2',\n",
              "  'name': 'Shooting spell',\n",
              "  'incantation': None,\n",
              "  'effect': 'Small explosion with a gunshot-sound',\n",
              "  'canBeVerbal': None,\n",
              "  'type': 'Spell',\n",
              "  'light': 'Transparent',\n",
              "  'creator': None}]"
            ]
          },
          "metadata": {},
          "execution_count": 14
        }
      ]
    },
    {
      "cell_type": "markdown",
      "source": [
        "### Cleaning up our code\n",
        "\n",
        "The code we have works, however assuming we want to make an API call but using a different end point, we will have to write the same code again. We want to refactor our code to adhere the `DRY` priniciple, `Do Not Repeat Yourself`. If you find yourself writing the same code over and over again, MODULARIZE IT."
      ],
      "metadata": {
        "id": "5ubJD_IcsFaA"
      }
    },
    {
      "cell_type": "code",
      "source": [
        "# modularizing our code\n",
        "def extract_api_basic(uri):\n",
        "  \"\"\"Description:\n",
        "      Ingest data from API endpoint\n",
        "    Parameters:\n",
        "      uri : URL of API endpoint where we are ingesting data from\n",
        "    Returns:\n",
        "      JSON data\n",
        "      \"\"\"\n",
        "  res = requests.get(uri)\n",
        "  data = res.json()\n",
        "\n",
        "  return data\n",
        "\n",
        "extract_api_basic(\"https://wizard-world-api.herokuapp.com/Spells?Type=Spell\")"
      ],
      "metadata": {
        "colab": {
          "base_uri": "https://localhost:8080/"
        },
        "id": "u1LuVDLms_Fy",
        "outputId": "43a13726-44f3-41db-e15d-d0d41b5402c5"
      },
      "execution_count": null,
      "outputs": [
        {
          "output_type": "execute_result",
          "data": {
            "text/plain": [
              "[{'id': '3ba417ce-8165-464d-9f29-daf23da1b2bc',\n",
              "  'name': \"Albus Dumbledore's forceful spell\",\n",
              "  'incantation': None,\n",
              "  'effect': 'Great force',\n",
              "  'canBeVerbal': None,\n",
              "  'type': 'Spell',\n",
              "  'light': 'Transparent',\n",
              "  'creator': None},\n",
              " {'id': '0cc4ee69-4aa8-49e1-bb89-125793ed2e95',\n",
              "  'name': 'False memory spell',\n",
              "  'incantation': None,\n",
              "  'effect': \"Implants a false memory in the victim's mind\",\n",
              "  'canBeVerbal': None,\n",
              "  'type': 'Spell',\n",
              "  'light': 'None',\n",
              "  'creator': 'Mnemone Radford c. 1900s (possibly)'},\n",
              " {'id': '5984fe39-c7e6-4ff9-ad8d-35cca813a239',\n",
              "  'name': 'Shield penetration spell',\n",
              "  'incantation': None,\n",
              "  'effect': 'Used to break down magical shields',\n",
              "  'canBeVerbal': None,\n",
              "  'type': 'Spell',\n",
              "  'light': 'BlueishWhite',\n",
              "  'creator': None},\n",
              " {'id': 'e93e47e2-fcae-4c8c-ad0e-f6f4804b04b2',\n",
              "  'name': 'Shooting spell',\n",
              "  'incantation': None,\n",
              "  'effect': 'Small explosion with a gunshot-sound',\n",
              "  'canBeVerbal': None,\n",
              "  'type': 'Spell',\n",
              "  'light': 'Transparent',\n",
              "  'creator': None}]"
            ]
          },
          "metadata": {},
          "execution_count": 32
        }
      ]
    },
    {
      "cell_type": "markdown",
      "source": [
        "### Pimping Our Code\n",
        "The code is better, it is modular.\n",
        "The following improvements can be made on the code:\n",
        "\n",
        "*  Making the code robust - can gracefully handle unexpected errors without crashing.\n",
        "*  Introduce observability. These are like checkpoints that let us know whether the action was successful or not.\n",
        "\n",
        "NOTE : For this purpose we will use print statements. The best practice is to implement logging in your code. **YOU WILL NOT RUN YOUR PIPELINES IN NOTEBOOKS !!**. This is only for demonstration purposes.\n",
        "\n"
      ],
      "metadata": {
        "id": "8B2ig5UrubkC"
      }
    },
    {
      "cell_type": "code",
      "source": [
        "def extract_api_enhanced(uri):\n",
        "  \"\"\"Description:\n",
        "      Ingest json data from API endpoint\n",
        "    Parameters:\n",
        "      uri : URL of API endpoint where we are ingesting data from\n",
        "    Returns:\n",
        "      JSON data\n",
        "      \"\"\"\n",
        "  print(f\"Extracting data from {uri}\")\n",
        "\n",
        "  try:\n",
        "    res = requests.get(uri)\n",
        "    data = res.json()\n",
        "  except Exception as e:\n",
        "    print(f\"Exception {e} while extracting data from {e}\")\n",
        "    data = res.status\n",
        "\n",
        "  return data\n",
        "\n",
        "data_json = extract_api_enhanced(\"https://wizard-world-api.herokuapp.com/Spells?Type=Spell\")\n",
        "#error = extract_api_enhanced(\"https://wizard-world-api.herokuapp.com/Spells?Type=Spells\")\n",
        "\n"
      ],
      "metadata": {
        "colab": {
          "base_uri": "https://localhost:8080/"
        },
        "id": "RRbrO3mYxglJ",
        "outputId": "47e30699-52ea-4806-883f-b8d9c5bbb490"
      },
      "execution_count": null,
      "outputs": [
        {
          "output_type": "stream",
          "name": "stdout",
          "text": [
            "Extracting data from https://wizard-world-api.herokuapp.com/Spells?Type=Spell\n"
          ]
        }
      ]
    },
    {
      "cell_type": "markdown",
      "source": [
        "### Some Commentary\n",
        "Notice, when you comment out the error variable and run the code, the programs does not crush despite the fact we have entered an endpoint that does not exist i.e we have mispelled 'Spells'. Try entering some spelling errors in the basic function and notice how the program crashes when it encounters an unexpected error such as invalid input. It is good practise to implement error handling in your pipelines."
      ],
      "metadata": {
        "id": "Lam7Wi2kz2ZY"
      }
    },
    {
      "cell_type": "markdown",
      "source": [
        "### 2. Cat Ninjas API\n",
        "\n",
        "Link to the API:\n",
        "\n",
        "https://catfact.ninja"
      ],
      "metadata": {
        "id": "9DtLuwbt8GRJ"
      }
    },
    {
      "cell_type": "code",
      "source": [
        "## 2. CAT NINJAS API"
      ],
      "metadata": {
        "id": "CGJGznhM6mUP"
      },
      "execution_count": null,
      "outputs": []
    },
    {
      "cell_type": "code",
      "source": [
        "# Exercise - using the best practices mentioned in this notebook, extract the breeds of cat API\n",
        "# https://catfact.ninja"
      ],
      "metadata": {
        "id": "e0H7NxAJ6z1n"
      },
      "execution_count": null,
      "outputs": []
    },
    {
      "cell_type": "code",
      "source": [
        "# Extract a random cat fact from the api using the same function you wrote"
      ],
      "metadata": {
        "id": "ZiEQ2MWr9fOV"
      },
      "execution_count": null,
      "outputs": []
    },
    {
      "cell_type": "markdown",
      "source": [
        "### 3. Vehicle API\n",
        "\n",
        "After a demonstration of ingesting data from this API, you are to attempt some exercises on ingesting data from the different endpoints in the API.\n",
        "\n",
        "https://vpic.nhtsa.dot.gov/api/"
      ],
      "metadata": {
        "id": "uqQi9heA_rmr"
      }
    },
    {
      "cell_type": "code",
      "source": [
        "# Example 1 - Get all manufacturers\n",
        "\n",
        "# we can still use our enhanced function by passing the entire query string\n",
        "\n",
        "manufacturer_data = extract_api_enhanced(\"https://vpic.nhtsa.dot.gov/api/vehicles/getallmanufacturers?format=json&page=2\")\n",
        "pprint.pprint(manufacturer_data)\n"
      ],
      "metadata": {
        "id": "Je4NY0QFBCVY"
      },
      "execution_count": null,
      "outputs": []
    },
    {
      "cell_type": "code",
      "source": [
        "# getting creative with our extract function\n",
        "\n",
        "def extract_vehicle_data(endpoint, search_param=None, format=\"json\" ):\n",
        "  \"\"\"Description:\n",
        "      Ingest data from API endpoint\n",
        "    Parameters:\n",
        "      endpoint : API endpoint hosting data\n",
        "      search_param : string to query endpoint e.g model name - \"mercedes\n",
        "      format : data format for response - Options are json, csv, xml, defaults to json\n",
        "    Returns:\n",
        "      JSON data\n",
        "      \"\"\"\n",
        "\n",
        "  params = {\"format\" : format}\n",
        "\n",
        "  if search_param is None:\n",
        "    uri = f\"https://vpic.nhtsa.dot.gov/api/vehicles/{endpoint}\"\n",
        "  else:\n",
        "    #params[endpoint] = search_param\n",
        "    uri = f\"https://vpic.nhtsa.dot.gov/api/vehicles/{endpoint}/{search_param}\"\n",
        "\n",
        "\n",
        "  print(f\"Extracting data from {uri}\")\n",
        "\n",
        "  try:\n",
        "    res = requests.get(uri, params=params)\n",
        "    data = res.json()\n",
        "  except Exception as e:\n",
        "    print(f\"Exception {e} while extracting data from {e}\")\n",
        "    data = pd.DataFrame()\n",
        "\n",
        "\n",
        "  return data\n",
        "\n",
        "manufacturer_data = extract_vehicle_data(\"getvehicletypesformake\",\"mercedes\")\n",
        "manufacturer_data\n"
      ],
      "metadata": {
        "id": "FKSNInOEOttR"
      },
      "execution_count": null,
      "outputs": []
    },
    {
      "cell_type": "code",
      "source": [
        "# Example 1 - get all makes\n",
        "\n",
        "makes = extract_vehicle_data(\"getallmakes\")\n",
        "makes"
      ],
      "metadata": {
        "id": "vLB4jmR1aO4M"
      },
      "execution_count": null,
      "outputs": []
    },
    {
      "cell_type": "code",
      "source": [
        "# Example 2 - get all the vehicle types that subaru makes in a CSV file\n",
        "subaru_makes = extract_vehicle_data(\"getmakeformanufacturer\",\"subaru\")\n",
        "subaru_makes"
      ],
      "metadata": {
        "id": "Sh21S3jBakvx"
      },
      "execution_count": null,
      "outputs": []
    },
    {
      "cell_type": "code",
      "source": [
        "# Exercise 1 - from the API endpoint - get all models for the make toyota"
      ],
      "metadata": {
        "id": "um34X5rPZsyL"
      },
      "execution_count": null,
      "outputs": []
    },
    {
      "cell_type": "code",
      "source": [
        "# Exercise 2 - gell all the manufacturer details for the model ford"
      ],
      "metadata": {
        "id": "DVR57AVFZ36x"
      },
      "execution_count": null,
      "outputs": []
    },
    {
      "cell_type": "code",
      "source": [
        "# NOTE - consult the documentation for these exercises"
      ],
      "metadata": {
        "id": "w_ZgQtnmaAGD"
      },
      "execution_count": null,
      "outputs": []
    },
    {
      "cell_type": "markdown",
      "source": [
        "### 4. Football data API\n",
        "\n",
        "https://www.football-data.org/documentation/quickstart\n",
        "\n",
        "key : `e257b2f572c2479090faf7220e4dd673`\n",
        "\n",
        "NOTE: The API key is limited to 10 API calls / minute.\n"
      ],
      "metadata": {
        "id": "PN2Z9EEDIBIL"
      }
    },
    {
      "cell_type": "code",
      "source": [
        "teams = extract_api_enhanced(\"http://api.football-data.org/v4/competitions/WC/teams\")\n",
        "teams"
      ],
      "metadata": {
        "colab": {
          "base_uri": "https://localhost:8080/"
        },
        "id": "mD8dxy5bH-37",
        "outputId": "6b1acf82-994b-4503-9767-4d74242bfc5b"
      },
      "execution_count": null,
      "outputs": [
        {
          "output_type": "stream",
          "name": "stdout",
          "text": [
            "Extracting data from http://api.football-data.org/v4/competitions/WC/teams\n"
          ]
        },
        {
          "output_type": "execute_result",
          "data": {
            "text/plain": [
              "{'message': 'The resource you are looking for is restricted and apparently not within your permissions. Please check your subscription.',\n",
              " 'errorCode': 403}"
            ]
          },
          "metadata": {},
          "execution_count": 59
        }
      ]
    }
  ]
}