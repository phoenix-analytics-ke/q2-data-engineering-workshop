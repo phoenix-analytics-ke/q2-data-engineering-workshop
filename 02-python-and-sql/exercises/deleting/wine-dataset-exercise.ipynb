{
 "cells": [
  {
   "cell_type": "markdown",
   "metadata": {},
   "source": [
    "# Wine"
   ]
  },
  {
   "cell_type": "markdown",
   "metadata": {},
   "source": [
    "### Introduction:\n",
    "\n",
    "This exercise is a adaptation from the UCI Wine dataset.\n",
    "The only pupose is to practice deleting data with pandas.\n",
    "\n",
    "### Step 1. Import the necessary libraries"
   ]
  },
  {
   "cell_type": "code",
   "execution_count": 8,
   "metadata": {},
   "outputs": [],
   "source": [
    "import numpy as np\n",
    "import pandas as pd"
   ]
  },
  {
   "cell_type": "markdown",
   "metadata": {},
   "source": [
    "### Step 2. Import the dataset from this [address](https://archive.ics.uci.edu/ml/machine-learning-databases/wine/wine.data). "
   ]
  },
  {
   "cell_type": "code",
   "execution_count": 3,
   "metadata": {},
   "outputs": [
    {
     "name": "stdout",
     "output_type": "stream",
     "text": [
      "   0      1     2     3     4    5     6     7     8     9     10    11    12  \\\n",
      "0   1  14.23  1.71  2.43  15.6  127  2.80  3.06  0.28  2.29  5.64  1.04  3.92   \n",
      "1   1  13.20  1.78  2.14  11.2  100  2.65  2.76  0.26  1.28  4.38  1.05  3.40   \n",
      "2   1  13.16  2.36  2.67  18.6  101  2.80  3.24  0.30  2.81  5.68  1.03  3.17   \n",
      "3   1  14.37  1.95  2.50  16.8  113  3.85  3.49  0.24  2.18  7.80  0.86  3.45   \n",
      "4   1  13.24  2.59  2.87  21.0  118  2.80  2.69  0.39  1.82  4.32  1.04  2.93   \n",
      "\n",
      "     13  \n",
      "0  1065  \n",
      "1  1050  \n",
      "2  1185  \n",
      "3  1480  \n",
      "4   735  \n"
     ]
    }
   ],
   "source": [
    "import \n",
    "url = 'https://archive.ics.uci.edu/ml/machine-learning-databases/wine/wine.data'\n",
    "data = pd.read_csv(url, header=None)\n",
    "print(data.head())"
   ]
  },
  {
   "cell_type": "markdown",
   "metadata": {},
   "source": [
    "### Step 3. Assign it to a variable called wine"
   ]
  },
  {
   "cell_type": "code",
   "execution_count": 4,
   "metadata": {
    "scrolled": true
   },
   "outputs": [
    {
     "name": "stdout",
     "output_type": "stream",
     "text": [
      "   0      1     2     3     4    5     6     7     8     9     10    11    12  \\\n",
      "0   1  14.23  1.71  2.43  15.6  127  2.80  3.06  0.28  2.29  5.64  1.04  3.92   \n",
      "1   1  13.20  1.78  2.14  11.2  100  2.65  2.76  0.26  1.28  4.38  1.05  3.40   \n",
      "2   1  13.16  2.36  2.67  18.6  101  2.80  3.24  0.30  2.81  5.68  1.03  3.17   \n",
      "3   1  14.37  1.95  2.50  16.8  113  3.85  3.49  0.24  2.18  7.80  0.86  3.45   \n",
      "4   1  13.24  2.59  2.87  21.0  118  2.80  2.69  0.39  1.82  4.32  1.04  2.93   \n",
      "\n",
      "     13  \n",
      "0  1065  \n",
      "1  1050  \n",
      "2  1185  \n",
      "3  1480  \n",
      "4   735  \n"
     ]
    }
   ],
   "source": [
    "wine = data.copy()\n",
    "print(wine.head())"
   ]
  },
  {
   "cell_type": "markdown",
   "metadata": {},
   "source": [
    "### Step 4. Delete the first, fourth, seventh, nineth, eleventh, thirteenth and fourteenth columns"
   ]
  },
  {
   "cell_type": "code",
   "execution_count": 5,
   "metadata": {},
   "outputs": [
    {
     "name": "stdout",
     "output_type": "stream",
     "text": [
      "      1     2     4    5     7     9     11\n",
      "0  14.23  1.71  15.6  127  3.06  2.29  1.04\n",
      "1  13.20  1.78  11.2  100  2.76  1.28  1.05\n",
      "2  13.16  2.36  18.6  101  3.24  2.81  1.03\n",
      "3  14.37  1.95  16.8  113  3.49  2.18  0.86\n",
      "4  13.24  2.59  21.0  118  2.69  1.82  1.04\n"
     ]
    }
   ],
   "source": [
    "columns_to_drop = [0, 3, 6, 8, 10, 12, 13]\n",
    "wine = wine.drop(columns=columns_to_drop)\n",
    "print(wine.head())"
   ]
  },
  {
   "cell_type": "markdown",
   "metadata": {},
   "source": [
    "### Step 5. Assign the columns as below:\n",
    "\n",
    "The attributes are (dontated by Riccardo Leardi, riclea '@' anchem.unige.it):  \n",
    "1) alcohol  \n",
    "2) malic_acid  \n",
    "3) alcalinity_of_ash  \n",
    "4) magnesium  \n",
    "5) flavanoids  \n",
    "6) proanthocyanins  \n",
    "7) hue "
   ]
  },
  {
   "cell_type": "code",
   "execution_count": 6,
   "metadata": {},
   "outputs": [
    {
     "name": "stdout",
     "output_type": "stream",
     "text": [
      "   alcohol  malic_acid  alcalinity_of_ash  magnesium  flavanoids  \\\n",
      "0    14.23        1.71               15.6        127        3.06   \n",
      "1    13.20        1.78               11.2        100        2.76   \n",
      "2    13.16        2.36               18.6        101        3.24   \n",
      "3    14.37        1.95               16.8        113        3.49   \n",
      "4    13.24        2.59               21.0        118        2.69   \n",
      "\n",
      "   proanthocyanins   hue  \n",
      "0             2.29  1.04  \n",
      "1             1.28  1.05  \n",
      "2             2.81  1.03  \n",
      "3             2.18  0.86  \n",
      "4             1.82  1.04  \n"
     ]
    }
   ],
   "source": [
    "new_column_names = [\"alcohol\", \"malic_acid\", \"alcalinity_of_ash\", \"magnesium\",\n",
    "                    \"flavanoids\", \"proanthocyanins\", \"hue\"]\n",
    "wine.columns = new_column_names\n",
    "print(wine.head())"
   ]
  },
  {
   "cell_type": "markdown",
   "metadata": {},
   "source": [
    "### Step 6. Set the values of the first 3 rows from alcohol as NaN"
   ]
  },
  {
   "cell_type": "code",
   "execution_count": 14,
   "metadata": {},
   "outputs": [
    {
     "name": "stdout",
     "output_type": "stream",
     "text": [
      "   alcohol  malic_acid  alcalinity_of_ash  magnesium  flavanoids  \\\n",
      "0      NaN        1.71               15.6      127.0        3.06   \n",
      "1      NaN        1.78               11.2      100.0        2.76   \n",
      "2      NaN        2.36               18.6        NaN        3.24   \n",
      "3    14.37        1.95               16.8        NaN        3.49   \n",
      "4    13.24        2.59               21.0        NaN        2.69   \n",
      "\n",
      "   proanthocyanins   hue  \n",
      "0             2.29  1.04  \n",
      "1             1.28  1.05  \n",
      "2             2.81  1.03  \n",
      "3             2.18  0.86  \n",
      "4             1.82  1.04  \n"
     ]
    }
   ],
   "source": [
    "wine.iloc[:3, wine.columns.get_loc('alcohol')] = np.nan\n",
    "print(wine.head())"
   ]
  },
  {
   "cell_type": "markdown",
   "metadata": {},
   "source": [
    "### Step 7. Now set the value of the rows 3 and 4 of magnesium as NaN"
   ]
  },
  {
   "cell_type": "code",
   "execution_count": 15,
   "metadata": {},
   "outputs": [
    {
     "name": "stdout",
     "output_type": "stream",
     "text": [
      "   alcohol  malic_acid  alcalinity_of_ash  magnesium  flavanoids  \\\n",
      "0      NaN        1.71               15.6      127.0        3.06   \n",
      "1      NaN        1.78               11.2      100.0        2.76   \n",
      "2      NaN        2.36               18.6        NaN        3.24   \n",
      "3    14.37        1.95               16.8        NaN        3.49   \n",
      "4    13.24        2.59               21.0        NaN        2.69   \n",
      "\n",
      "   proanthocyanins   hue  \n",
      "0             2.29  1.04  \n",
      "1             1.28  1.05  \n",
      "2             2.81  1.03  \n",
      "3             2.18  0.86  \n",
      "4             1.82  1.04  \n"
     ]
    }
   ],
   "source": [
    "wine.iloc[2:4, wine.columns.get_loc('magnesium')] = np.nan\n",
    "print(wine.head())"
   ]
  },
  {
   "cell_type": "markdown",
   "metadata": {},
   "source": [
    "### Step 8. Fill the value of NaN with the number 10 in alcohol and 100 in magnesium"
   ]
  },
  {
   "cell_type": "code",
   "execution_count": 16,
   "metadata": {},
   "outputs": [
    {
     "name": "stdout",
     "output_type": "stream",
     "text": [
      "   alcohol  malic_acid  alcalinity_of_ash  magnesium  flavanoids  \\\n",
      "0    10.00        1.71               15.6      127.0        3.06   \n",
      "1    10.00        1.78               11.2      100.0        2.76   \n",
      "2    10.00        2.36               18.6      100.0        3.24   \n",
      "3    14.37        1.95               16.8      100.0        3.49   \n",
      "4    13.24        2.59               21.0      100.0        2.69   \n",
      "\n",
      "   proanthocyanins   hue  \n",
      "0             2.29  1.04  \n",
      "1             1.28  1.05  \n",
      "2             2.81  1.03  \n",
      "3             2.18  0.86  \n",
      "4             1.82  1.04  \n"
     ]
    }
   ],
   "source": [
    "wine['alcohol'].fillna(10, inplace=True)\n",
    "wine['magnesium'].fillna(100, inplace=True)\n",
    "\n",
    "print(wine.head())"
   ]
  },
  {
   "cell_type": "markdown",
   "metadata": {},
   "source": [
    "### Step 9. Count the number of missing values"
   ]
  },
  {
   "cell_type": "code",
   "execution_count": 17,
   "metadata": {},
   "outputs": [
    {
     "name": "stdout",
     "output_type": "stream",
     "text": [
      "alcohol              0\n",
      "malic_acid           0\n",
      "alcalinity_of_ash    0\n",
      "magnesium            0\n",
      "flavanoids           0\n",
      "proanthocyanins      0\n",
      "hue                  0\n",
      "dtype: int64\n"
     ]
    }
   ],
   "source": [
    "missing_values = wine.isnull().sum()\n",
    "print(missing_values)"
   ]
  },
  {
   "cell_type": "markdown",
   "metadata": {},
   "source": [
    "### Step 10.  Create an array of 10 random numbers up until 10"
   ]
  },
  {
   "cell_type": "code",
   "execution_count": 18,
   "metadata": {},
   "outputs": [
    {
     "name": "stdout",
     "output_type": "stream",
     "text": [
      "[3 5 0 4 6 2 5 0 8 0]\n"
     ]
    }
   ],
   "source": [
    "random_numbers = np.random.randint(0, 11, size=10)\n",
    "print(random_numbers)\n"
   ]
  },
  {
   "cell_type": "markdown",
   "metadata": {},
   "source": [
    "### Step 11.  Set the rows of the random numbers in the column"
   ]
  },
  {
   "cell_type": "code",
   "execution_count": 19,
   "metadata": {},
   "outputs": [
    {
     "name": "stdout",
     "output_type": "stream",
     "text": [
      "   alcohol  malic_acid  alcalinity_of_ash  magnesium  flavanoids  \\\n",
      "0      3.0        1.71               15.6      127.0        3.06   \n",
      "1      5.0        1.78               11.2      100.0        2.76   \n",
      "2      0.0        2.36               18.6      100.0        3.24   \n",
      "3      4.0        1.95               16.8      100.0        3.49   \n",
      "4      6.0        2.59               21.0      100.0        2.69   \n",
      "\n",
      "   proanthocyanins   hue  \n",
      "0             2.29  1.04  \n",
      "1             1.28  1.05  \n",
      "2             2.81  1.03  \n",
      "3             2.18  0.86  \n",
      "4             1.82  1.04  \n"
     ]
    }
   ],
   "source": [
    "wine.loc[:9, 'alcohol'] = random_numbers\n",
    "\n",
    "print(wine.head())"
   ]
  },
  {
   "cell_type": "markdown",
   "metadata": {},
   "source": [
    "### Step 12.  How many missing values do we have?"
   ]
  },
  {
   "cell_type": "code",
   "execution_count": 20,
   "metadata": {},
   "outputs": [
    {
     "name": "stdout",
     "output_type": "stream",
     "text": [
      "alcohol              0\n",
      "malic_acid           0\n",
      "alcalinity_of_ash    0\n",
      "magnesium            0\n",
      "flavanoids           0\n",
      "proanthocyanins      0\n",
      "hue                  0\n",
      "dtype: int64\n"
     ]
    }
   ],
   "source": [
    "missing_values = wine.isnull().sum()\n",
    "print(missing_values)\n"
   ]
  },
  {
   "cell_type": "markdown",
   "metadata": {},
   "source": [
    "### Step 14. Print only the non-null values in alcohol"
   ]
  },
  {
   "cell_type": "code",
   "execution_count": 21,
   "metadata": {},
   "outputs": [
    {
     "name": "stdout",
     "output_type": "stream",
     "text": [
      "0       3.00\n",
      "1       5.00\n",
      "2       0.00\n",
      "3       4.00\n",
      "4       6.00\n",
      "       ...  \n",
      "173    13.71\n",
      "174    13.40\n",
      "175    13.27\n",
      "176    13.17\n",
      "177    14.13\n",
      "Name: alcohol, Length: 178, dtype: float64\n"
     ]
    }
   ],
   "source": [
    "print(wine['alcohol'].dropna())"
   ]
  },
  {
   "cell_type": "markdown",
   "metadata": {},
   "source": [
    "### Step 13. Delete the rows that contain missing values"
   ]
  },
  {
   "cell_type": "code",
   "execution_count": 22,
   "metadata": {},
   "outputs": [
    {
     "name": "stdout",
     "output_type": "stream",
     "text": [
      "   alcohol  malic_acid  alcalinity_of_ash  magnesium  flavanoids  \\\n",
      "0      3.0        1.71               15.6      127.0        3.06   \n",
      "1      5.0        1.78               11.2      100.0        2.76   \n",
      "2      0.0        2.36               18.6      100.0        3.24   \n",
      "3      4.0        1.95               16.8      100.0        3.49   \n",
      "4      6.0        2.59               21.0      100.0        2.69   \n",
      "\n",
      "   proanthocyanins   hue  \n",
      "0             2.29  1.04  \n",
      "1             1.28  1.05  \n",
      "2             2.81  1.03  \n",
      "3             2.18  0.86  \n",
      "4             1.82  1.04  \n"
     ]
    }
   ],
   "source": [
    "wine_cleaned = wine.dropna()\n",
    "\n",
    "print(wine_cleaned.head())"
   ]
  },
  {
   "cell_type": "markdown",
   "metadata": {},
   "source": [
    "### Step 15.  Reset the index, so it starts with 0 again"
   ]
  },
  {
   "cell_type": "code",
   "execution_count": 23,
   "metadata": {},
   "outputs": [
    {
     "name": "stdout",
     "output_type": "stream",
     "text": [
      "   alcohol  malic_acid  alcalinity_of_ash  magnesium  flavanoids  \\\n",
      "0      3.0        1.71               15.6      127.0        3.06   \n",
      "1      5.0        1.78               11.2      100.0        2.76   \n",
      "2      0.0        2.36               18.6      100.0        3.24   \n",
      "3      4.0        1.95               16.8      100.0        3.49   \n",
      "4      6.0        2.59               21.0      100.0        2.69   \n",
      "\n",
      "   proanthocyanins   hue  \n",
      "0             2.29  1.04  \n",
      "1             1.28  1.05  \n",
      "2             2.81  1.03  \n",
      "3             2.18  0.86  \n",
      "4             1.82  1.04  \n"
     ]
    }
   ],
   "source": [
    "wine_cleaned = wine_cleaned.reset_index(drop=True)\n",
    "print(wine_cleaned.head())"
   ]
  },
  {
   "cell_type": "markdown",
   "metadata": {},
   "source": [
    "### BONUS: Create your own question and answer it."
   ]
  },
  {
   "cell_type": "code",
   "execution_count": 27,
   "metadata": {},
   "outputs": [
    {
     "name": "stdout",
     "output_type": "stream",
     "text": [
      "     alcohol  \\\n",
      "0       3.00   \n",
      "1       5.00   \n",
      "2       0.00   \n",
      "3       4.00   \n",
      "4       6.00   \n",
      "..       ...   \n",
      "173    13.71   \n",
      "174    13.40   \n",
      "175    13.27   \n",
      "176    13.17   \n",
      "177    14.13   \n",
      "\n",
      "     malic_acid  \\\n",
      "0          1.71   \n",
      "1          1.78   \n",
      "2          2.36   \n",
      "3          1.95   \n",
      "4          2.59   \n",
      "..          ...   \n",
      "173        5.65   \n",
      "174        3.91   \n",
      "175        4.28   \n",
      "176        2.59   \n",
      "177        4.10   \n",
      "\n",
      "     alcalinity_of_ash  \\\n",
      "0                 15.6   \n",
      "1                 11.2   \n",
      "2                 18.6   \n",
      "3                 16.8   \n",
      "4                 21.0   \n",
      "..                 ...   \n",
      "173               20.5   \n",
      "174               23.0   \n",
      "175               20.0   \n",
      "176               20.0   \n",
      "177               24.5   \n",
      "\n",
      "     magnesium  \\\n",
      "0        127.0   \n",
      "1        100.0   \n",
      "2        100.0   \n",
      "3        100.0   \n",
      "4        100.0   \n",
      "..         ...   \n",
      "173       95.0   \n",
      "174      102.0   \n",
      "175      120.0   \n",
      "176      120.0   \n",
      "177       96.0   \n",
      "\n",
      "     flavanoids  \\\n",
      "0          3.06   \n",
      "1          2.76   \n",
      "2          3.24   \n",
      "3          3.49   \n",
      "4          2.69   \n",
      "..          ...   \n",
      "173        0.61   \n",
      "174        0.75   \n",
      "175        0.69   \n",
      "176        0.68   \n",
      "177        0.76   \n",
      "\n",
      "     proanthocyanins  \\\n",
      "0               2.29   \n",
      "1               1.28   \n",
      "2               2.81   \n",
      "3               2.18   \n",
      "4               1.82   \n",
      "..               ...   \n",
      "173             1.06   \n",
      "174             1.41   \n",
      "175             1.35   \n",
      "176             1.46   \n",
      "177             1.35   \n",
      "\n",
      "      hue  \n",
      "0    1.04  \n",
      "1    1.05  \n",
      "2    1.03  \n",
      "3    0.86  \n",
      "4    1.04  \n",
      "..    ...  \n",
      "173  0.64  \n",
      "174  0.70  \n",
      "175  0.59  \n",
      "176  0.60  \n",
      "177  0.61  \n",
      "\n",
      "[178 rows x 7 columns]\n"
     ]
    }
   ],
   "source": [
    "# change display \n",
    "pd.set_option('display.width', 7)\n",
    "pd.set_option('display.max_columns', None)\n",
    "print(wine)"
   ]
  },
  {
   "cell_type": "code",
   "execution_count": null,
   "metadata": {},
   "outputs": [],
   "source": []
  }
 ],
 "metadata": {
  "kernelspec": {
   "display_name": "Python 3 (ipykernel)",
   "language": "python",
   "name": "python3"
  },
  "language_info": {
   "codemirror_mode": {
    "name": "ipython",
    "version": 3
   },
   "file_extension": ".py",
   "mimetype": "text/x-python",
   "name": "python",
   "nbconvert_exporter": "python",
   "pygments_lexer": "ipython3",
   "version": "3.11.5"
  }
 },
 "nbformat": 4,
 "nbformat_minor": 1
}
