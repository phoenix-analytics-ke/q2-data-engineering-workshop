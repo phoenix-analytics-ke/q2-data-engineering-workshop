{
 "cells": [
  {
   "cell_type": "code",
   "execution_count": 1,
   "metadata": {},
   "outputs": [
    {
     "data": {
      "text/html": [
       "<div>\n",
       "<style scoped>\n",
       "    .dataframe tbody tr th:only-of-type {\n",
       "        vertical-align: middle;\n",
       "    }\n",
       "\n",
       "    .dataframe tbody tr th {\n",
       "        vertical-align: top;\n",
       "    }\n",
       "\n",
       "    .dataframe thead th {\n",
       "        text-align: right;\n",
       "    }\n",
       "</style>\n",
       "<table border=\"1\" class=\"dataframe\">\n",
       "  <thead>\n",
       "    <tr style=\"text-align: right;\">\n",
       "      <th></th>\n",
       "      <th>id</th>\n",
       "      <th>commodity</th>\n",
       "      <th>classification</th>\n",
       "      <th>grade</th>\n",
       "      <th>sex</th>\n",
       "      <th>market</th>\n",
       "      <th>wholesale</th>\n",
       "      <th>retail</th>\n",
       "      <th>supply_volume</th>\n",
       "      <th>county</th>\n",
       "      <th>date</th>\n",
       "    </tr>\n",
       "  </thead>\n",
       "  <tbody>\n",
       "    <tr>\n",
       "      <th>0</th>\n",
       "      <td>1</td>\n",
       "      <td>Wheat</td>\n",
       "      <td>-</td>\n",
       "      <td>-</td>\n",
       "      <td>-</td>\n",
       "      <td>Kibiok</td>\n",
       "      <td>75.00/Kg</td>\n",
       "      <td>80.00/Kg</td>\n",
       "      <td>450.0</td>\n",
       "      <td>Nandi</td>\n",
       "      <td>2024-03-10</td>\n",
       "    </tr>\n",
       "    <tr>\n",
       "      <th>1</th>\n",
       "      <td>2</td>\n",
       "      <td>Wheat</td>\n",
       "      <td>-</td>\n",
       "      <td>-</td>\n",
       "      <td>-</td>\n",
       "      <td>Kabiyet Market</td>\n",
       "      <td>100.00/Kg</td>\n",
       "      <td>130.00/Kg</td>\n",
       "      <td>1000.0</td>\n",
       "      <td>Nandi</td>\n",
       "      <td>2024-03-08</td>\n",
       "    </tr>\n",
       "    <tr>\n",
       "      <th>2</th>\n",
       "      <td>3</td>\n",
       "      <td>Wheat</td>\n",
       "      <td>-</td>\n",
       "      <td>-</td>\n",
       "      <td>-</td>\n",
       "      <td>Nakuru Wakulima</td>\n",
       "      <td>65.00/Kg</td>\n",
       "      <td>-</td>\n",
       "      <td>NaN</td>\n",
       "      <td>Nakuru</td>\n",
       "      <td>2024-03-08</td>\n",
       "    </tr>\n",
       "    <tr>\n",
       "      <th>3</th>\n",
       "      <td>4</td>\n",
       "      <td>Wheat</td>\n",
       "      <td>-</td>\n",
       "      <td>-</td>\n",
       "      <td>-</td>\n",
       "      <td>Daraja Mbili</td>\n",
       "      <td>60.00/Kg</td>\n",
       "      <td>80.00/Kg</td>\n",
       "      <td>250.0</td>\n",
       "      <td>Kisii</td>\n",
       "      <td>2024-03-08</td>\n",
       "    </tr>\n",
       "    <tr>\n",
       "      <th>4</th>\n",
       "      <td>5</td>\n",
       "      <td>Wheat</td>\n",
       "      <td>-</td>\n",
       "      <td>-</td>\n",
       "      <td>-</td>\n",
       "      <td>Maua</td>\n",
       "      <td>77.78/Kg</td>\n",
       "      <td>100.00/Kg</td>\n",
       "      <td>1980.0</td>\n",
       "      <td>Meru</td>\n",
       "      <td>2024-03-07</td>\n",
       "    </tr>\n",
       "  </tbody>\n",
       "</table>\n",
       "</div>"
      ],
      "text/plain": [
       "   id commodity classification grade sex           market  wholesale  \\\n",
       "0   1     Wheat              -     -   -           Kibiok   75.00/Kg   \n",
       "1   2     Wheat              -     -   -   Kabiyet Market  100.00/Kg   \n",
       "2   3     Wheat              -     -   -  Nakuru Wakulima   65.00/Kg   \n",
       "3   4     Wheat              -     -   -     Daraja Mbili   60.00/Kg   \n",
       "4   5     Wheat              -     -   -             Maua   77.78/Kg   \n",
       "\n",
       "      retail  supply_volume  county        date  \n",
       "0   80.00/Kg          450.0   Nandi  2024-03-10  \n",
       "1  130.00/Kg         1000.0   Nandi  2024-03-08  \n",
       "2         -             NaN  Nakuru  2024-03-08  \n",
       "3   80.00/Kg          250.0   Kisii  2024-03-08  \n",
       "4  100.00/Kg         1980.0    Meru  2024-03-07  "
      ]
     },
     "execution_count": 1,
     "metadata": {},
     "output_type": "execute_result"
    }
   ],
   "source": [
    "import pandas as  pd\n",
    "import numpy as np \n",
    "\n",
    "df = pd.read_csv(r'C:\\Users\\tevin_solutech\\Desktop\\Tems\\Bootcamp\\q2-data-engineering-workshop\\04-data-warehousing\\data\\sample_agric_commodities.csv')\n",
    "df.head()"
   ]
  },
  {
   "cell_type": "code",
   "execution_count": 2,
   "metadata": {},
   "outputs": [
    {
     "name": "stderr",
     "output_type": "stream",
     "text": [
      "C:\\Users\\tevin_solutech\\AppData\\Local\\Temp\\ipykernel_9440\\1072841657.py:1: FutureWarning: Downcasting behavior in `replace` is deprecated and will be removed in a future version. To retain the old behavior, explicitly call `result.infer_objects(copy=False)`. To opt-in to the future behavior, set `pd.set_option('future.no_silent_downcasting', True)`\n",
      "  df.replace('-', np.nan, inplace=True)\n"
     ]
    }
   ],
   "source": [
    "df.replace('-', np.nan, inplace=True)\n",
    "df.replace(' - ', np.nan, inplace=True)"
   ]
  },
  {
   "cell_type": "code",
   "execution_count": 3,
   "metadata": {},
   "outputs": [],
   "source": [
    "df.drop(columns=['grade','sex'], inplace=True)"
   ]
  },
  {
   "cell_type": "code",
   "execution_count": 4,
   "metadata": {},
   "outputs": [
    {
     "data": {
      "text/html": [
       "<div>\n",
       "<style scoped>\n",
       "    .dataframe tbody tr th:only-of-type {\n",
       "        vertical-align: middle;\n",
       "    }\n",
       "\n",
       "    .dataframe tbody tr th {\n",
       "        vertical-align: top;\n",
       "    }\n",
       "\n",
       "    .dataframe thead th {\n",
       "        text-align: right;\n",
       "    }\n",
       "</style>\n",
       "<table border=\"1\" class=\"dataframe\">\n",
       "  <thead>\n",
       "    <tr style=\"text-align: right;\">\n",
       "      <th></th>\n",
       "      <th>id</th>\n",
       "      <th>commodity</th>\n",
       "      <th>classification</th>\n",
       "      <th>market</th>\n",
       "      <th>wholesale</th>\n",
       "      <th>retail</th>\n",
       "      <th>supply_volume</th>\n",
       "      <th>county</th>\n",
       "      <th>date</th>\n",
       "    </tr>\n",
       "  </thead>\n",
       "  <tbody>\n",
       "    <tr>\n",
       "      <th>0</th>\n",
       "      <td>1</td>\n",
       "      <td>Wheat</td>\n",
       "      <td>NaN</td>\n",
       "      <td>Kibiok</td>\n",
       "      <td>75.00/Kg</td>\n",
       "      <td>80.00/Kg</td>\n",
       "      <td>450.0</td>\n",
       "      <td>Nandi</td>\n",
       "      <td>2024-03-10</td>\n",
       "    </tr>\n",
       "    <tr>\n",
       "      <th>1</th>\n",
       "      <td>2</td>\n",
       "      <td>Wheat</td>\n",
       "      <td>NaN</td>\n",
       "      <td>Kabiyet Market</td>\n",
       "      <td>100.00/Kg</td>\n",
       "      <td>130.00/Kg</td>\n",
       "      <td>1000.0</td>\n",
       "      <td>Nandi</td>\n",
       "      <td>2024-03-08</td>\n",
       "    </tr>\n",
       "    <tr>\n",
       "      <th>2</th>\n",
       "      <td>3</td>\n",
       "      <td>Wheat</td>\n",
       "      <td>NaN</td>\n",
       "      <td>Nakuru Wakulima</td>\n",
       "      <td>65.00/Kg</td>\n",
       "      <td>NaN</td>\n",
       "      <td>NaN</td>\n",
       "      <td>Nakuru</td>\n",
       "      <td>2024-03-08</td>\n",
       "    </tr>\n",
       "    <tr>\n",
       "      <th>3</th>\n",
       "      <td>4</td>\n",
       "      <td>Wheat</td>\n",
       "      <td>NaN</td>\n",
       "      <td>Daraja Mbili</td>\n",
       "      <td>60.00/Kg</td>\n",
       "      <td>80.00/Kg</td>\n",
       "      <td>250.0</td>\n",
       "      <td>Kisii</td>\n",
       "      <td>2024-03-08</td>\n",
       "    </tr>\n",
       "    <tr>\n",
       "      <th>4</th>\n",
       "      <td>5</td>\n",
       "      <td>Wheat</td>\n",
       "      <td>NaN</td>\n",
       "      <td>Maua</td>\n",
       "      <td>77.78/Kg</td>\n",
       "      <td>100.00/Kg</td>\n",
       "      <td>1980.0</td>\n",
       "      <td>Meru</td>\n",
       "      <td>2024-03-07</td>\n",
       "    </tr>\n",
       "  </tbody>\n",
       "</table>\n",
       "</div>"
      ],
      "text/plain": [
       "   id commodity classification           market  wholesale     retail  \\\n",
       "0   1     Wheat            NaN           Kibiok   75.00/Kg   80.00/Kg   \n",
       "1   2     Wheat            NaN   Kabiyet Market  100.00/Kg  130.00/Kg   \n",
       "2   3     Wheat            NaN  Nakuru Wakulima   65.00/Kg        NaN   \n",
       "3   4     Wheat            NaN     Daraja Mbili   60.00/Kg   80.00/Kg   \n",
       "4   5     Wheat            NaN             Maua   77.78/Kg  100.00/Kg   \n",
       "\n",
       "   supply_volume  county        date  \n",
       "0          450.0   Nandi  2024-03-10  \n",
       "1         1000.0   Nandi  2024-03-08  \n",
       "2            NaN  Nakuru  2024-03-08  \n",
       "3          250.0   Kisii  2024-03-08  \n",
       "4         1980.0    Meru  2024-03-07  "
      ]
     },
     "execution_count": 4,
     "metadata": {},
     "output_type": "execute_result"
    }
   ],
   "source": [
    "df.head()"
   ]
  },
  {
   "cell_type": "code",
   "execution_count": 5,
   "metadata": {},
   "outputs": [
    {
     "data": {
      "text/plain": [
       "0     80.00/Kg\n",
       "1    130.00/Kg\n",
       "2          NaN\n",
       "3     80.00/Kg\n",
       "Name: retail, dtype: object"
      ]
     },
     "execution_count": 5,
     "metadata": {},
     "output_type": "execute_result"
    }
   ],
   "source": [
    "df.loc[:3,'retail']"
   ]
  },
  {
   "cell_type": "code",
   "execution_count": 6,
   "metadata": {},
   "outputs": [
    {
     "data": {
      "text/plain": [
       "count          1586\n",
       "unique          130\n",
       "top       100.00/Kg\n",
       "freq            307\n",
       "Name: retail, dtype: object"
      ]
     },
     "execution_count": 6,
     "metadata": {},
     "output_type": "execute_result"
    }
   ],
   "source": [
    "df['retail'].describe()"
   ]
  },
  {
   "cell_type": "code",
   "execution_count": 7,
   "metadata": {},
   "outputs": [
    {
     "data": {
      "text/plain": [
       "array([nan, 'Sindano', 'Pishori', 'IRR', 'Large Brown', 'Small Red',\n",
       "       'Hybrid/ polished', 'Makueni', 'Local-Special', 'White Maize',\n",
       "       'Mixed-Traditional ', 'Yellow Maize'], dtype=object)"
      ]
     },
     "execution_count": 7,
     "metadata": {},
     "output_type": "execute_result"
    }
   ],
   "source": [
    "df['classification'].unique()"
   ]
  },
  {
   "cell_type": "code",
   "execution_count": 8,
   "metadata": {},
   "outputs": [
    {
     "name": "stderr",
     "output_type": "stream",
     "text": [
      "C:\\Users\\tevin_solutech\\AppData\\Local\\Temp\\ipykernel_9440\\431714669.py:1: FutureWarning: A value is trying to be set on a copy of a DataFrame or Series through chained assignment using an inplace method.\n",
      "The behavior will change in pandas 3.0. This inplace method will never work because the intermediate object on which we are setting values always behaves as a copy.\n",
      "\n",
      "For example, when doing 'df[col].method(value, inplace=True)', try using 'df.method({col: value}, inplace=True)' or df[col] = df[col].method(value) instead, to perform the operation inplace on the original object.\n",
      "\n",
      "\n",
      "  df['classification'].fillna('Not Classified', inplace=True)\n",
      "C:\\Users\\tevin_solutech\\AppData\\Local\\Temp\\ipykernel_9440\\431714669.py:6: FutureWarning: A value is trying to be set on a copy of a DataFrame or Series through chained assignment using an inplace method.\n",
      "The behavior will change in pandas 3.0. This inplace method will never work because the intermediate object on which we are setting values always behaves as a copy.\n",
      "\n",
      "For example, when doing 'df[col].method(value, inplace=True)', try using 'df.method({col: value}, inplace=True)' or df[col] = df[col].method(value) instead, to perform the operation inplace on the original object.\n",
      "\n",
      "\n",
      "  df['supply_volume'].fillna(0, inplace=True)\n"
     ]
    }
   ],
   "source": [
    "df['classification'].fillna('Not Classified', inplace=True)\n",
    "df['wholesale'] = df['wholesale'].str.split('/')[0][0]\n",
    "df['wholesale']= df['wholesale'].astype(float)\n",
    "df['retail'] = df['retail'].str.split('/')[0][0]\n",
    "df['retail'] = df['retail'].astype(float)\n",
    "df['supply_volume'].fillna(0, inplace=True)\n",
    "df['date']= pd.to_datetime(df['date'])"
   ]
  },
  {
   "cell_type": "code",
   "execution_count": 9,
   "metadata": {},
   "outputs": [
    {
     "data": {
      "text/plain": [
       "id                         int64\n",
       "commodity                 object\n",
       "classification            object\n",
       "market                    object\n",
       "wholesale                float64\n",
       "retail                   float64\n",
       "supply_volume            float64\n",
       "county                    object\n",
       "date              datetime64[ns]\n",
       "dtype: object"
      ]
     },
     "execution_count": 9,
     "metadata": {},
     "output_type": "execute_result"
    }
   ],
   "source": [
    "df.dtypes"
   ]
  },
  {
   "cell_type": "code",
   "execution_count": 10,
   "metadata": {},
   "outputs": [
    {
     "data": {
      "text/html": [
       "<div>\n",
       "<style scoped>\n",
       "    .dataframe tbody tr th:only-of-type {\n",
       "        vertical-align: middle;\n",
       "    }\n",
       "\n",
       "    .dataframe tbody tr th {\n",
       "        vertical-align: top;\n",
       "    }\n",
       "\n",
       "    .dataframe thead th {\n",
       "        text-align: right;\n",
       "    }\n",
       "</style>\n",
       "<table border=\"1\" class=\"dataframe\">\n",
       "  <thead>\n",
       "    <tr style=\"text-align: right;\">\n",
       "      <th></th>\n",
       "      <th>id</th>\n",
       "      <th>commodity</th>\n",
       "      <th>classification</th>\n",
       "      <th>market</th>\n",
       "      <th>wholesale</th>\n",
       "      <th>retail</th>\n",
       "      <th>supply_volume</th>\n",
       "      <th>county</th>\n",
       "      <th>date</th>\n",
       "    </tr>\n",
       "  </thead>\n",
       "  <tbody>\n",
       "    <tr>\n",
       "      <th>0</th>\n",
       "      <td>1</td>\n",
       "      <td>Wheat</td>\n",
       "      <td>Not Classified</td>\n",
       "      <td>Kibiok</td>\n",
       "      <td>75.0</td>\n",
       "      <td>80.0</td>\n",
       "      <td>450.0</td>\n",
       "      <td>Nandi</td>\n",
       "      <td>2024-03-10</td>\n",
       "    </tr>\n",
       "    <tr>\n",
       "      <th>1</th>\n",
       "      <td>2</td>\n",
       "      <td>Wheat</td>\n",
       "      <td>Not Classified</td>\n",
       "      <td>Kabiyet Market</td>\n",
       "      <td>75.0</td>\n",
       "      <td>80.0</td>\n",
       "      <td>1000.0</td>\n",
       "      <td>Nandi</td>\n",
       "      <td>2024-03-08</td>\n",
       "    </tr>\n",
       "    <tr>\n",
       "      <th>2</th>\n",
       "      <td>3</td>\n",
       "      <td>Wheat</td>\n",
       "      <td>Not Classified</td>\n",
       "      <td>Nakuru Wakulima</td>\n",
       "      <td>75.0</td>\n",
       "      <td>80.0</td>\n",
       "      <td>0.0</td>\n",
       "      <td>Nakuru</td>\n",
       "      <td>2024-03-08</td>\n",
       "    </tr>\n",
       "    <tr>\n",
       "      <th>3</th>\n",
       "      <td>4</td>\n",
       "      <td>Wheat</td>\n",
       "      <td>Not Classified</td>\n",
       "      <td>Daraja Mbili</td>\n",
       "      <td>75.0</td>\n",
       "      <td>80.0</td>\n",
       "      <td>250.0</td>\n",
       "      <td>Kisii</td>\n",
       "      <td>2024-03-08</td>\n",
       "    </tr>\n",
       "    <tr>\n",
       "      <th>4</th>\n",
       "      <td>5</td>\n",
       "      <td>Wheat</td>\n",
       "      <td>Not Classified</td>\n",
       "      <td>Maua</td>\n",
       "      <td>75.0</td>\n",
       "      <td>80.0</td>\n",
       "      <td>1980.0</td>\n",
       "      <td>Meru</td>\n",
       "      <td>2024-03-07</td>\n",
       "    </tr>\n",
       "    <tr>\n",
       "      <th>5</th>\n",
       "      <td>6</td>\n",
       "      <td>Wheat</td>\n",
       "      <td>Not Classified</td>\n",
       "      <td>Nakuru Wakulima</td>\n",
       "      <td>75.0</td>\n",
       "      <td>80.0</td>\n",
       "      <td>0.0</td>\n",
       "      <td>Nakuru</td>\n",
       "      <td>2024-03-07</td>\n",
       "    </tr>\n",
       "    <tr>\n",
       "      <th>6</th>\n",
       "      <td>7</td>\n",
       "      <td>Wheat</td>\n",
       "      <td>Not Classified</td>\n",
       "      <td>Kawangware</td>\n",
       "      <td>75.0</td>\n",
       "      <td>80.0</td>\n",
       "      <td>0.0</td>\n",
       "      <td>Nairobi</td>\n",
       "      <td>2024-03-07</td>\n",
       "    </tr>\n",
       "    <tr>\n",
       "      <th>7</th>\n",
       "      <td>8</td>\n",
       "      <td>Wheat</td>\n",
       "      <td>Not Classified</td>\n",
       "      <td>Nakuru Wakulima</td>\n",
       "      <td>75.0</td>\n",
       "      <td>80.0</td>\n",
       "      <td>990.0</td>\n",
       "      <td>Nakuru</td>\n",
       "      <td>2024-03-06</td>\n",
       "    </tr>\n",
       "    <tr>\n",
       "      <th>8</th>\n",
       "      <td>9</td>\n",
       "      <td>Wheat</td>\n",
       "      <td>Not Classified</td>\n",
       "      <td>Nakuru Wakulima</td>\n",
       "      <td>75.0</td>\n",
       "      <td>80.0</td>\n",
       "      <td>0.0</td>\n",
       "      <td>Nakuru</td>\n",
       "      <td>2024-03-05</td>\n",
       "    </tr>\n",
       "    <tr>\n",
       "      <th>9</th>\n",
       "      <td>10</td>\n",
       "      <td>Wheat</td>\n",
       "      <td>Not Classified</td>\n",
       "      <td>Kabiyet Market</td>\n",
       "      <td>75.0</td>\n",
       "      <td>80.0</td>\n",
       "      <td>1000.0</td>\n",
       "      <td>Nandi</td>\n",
       "      <td>2024-03-05</td>\n",
       "    </tr>\n",
       "  </tbody>\n",
       "</table>\n",
       "</div>"
      ],
      "text/plain": [
       "   id commodity  classification           market  wholesale  retail  \\\n",
       "0   1     Wheat  Not Classified           Kibiok       75.0    80.0   \n",
       "1   2     Wheat  Not Classified   Kabiyet Market       75.0    80.0   \n",
       "2   3     Wheat  Not Classified  Nakuru Wakulima       75.0    80.0   \n",
       "3   4     Wheat  Not Classified     Daraja Mbili       75.0    80.0   \n",
       "4   5     Wheat  Not Classified             Maua       75.0    80.0   \n",
       "5   6     Wheat  Not Classified  Nakuru Wakulima       75.0    80.0   \n",
       "6   7     Wheat  Not Classified       Kawangware       75.0    80.0   \n",
       "7   8     Wheat  Not Classified  Nakuru Wakulima       75.0    80.0   \n",
       "8   9     Wheat  Not Classified  Nakuru Wakulima       75.0    80.0   \n",
       "9  10     Wheat  Not Classified   Kabiyet Market       75.0    80.0   \n",
       "\n",
       "   supply_volume   county       date  \n",
       "0          450.0    Nandi 2024-03-10  \n",
       "1         1000.0    Nandi 2024-03-08  \n",
       "2            0.0   Nakuru 2024-03-08  \n",
       "3          250.0    Kisii 2024-03-08  \n",
       "4         1980.0     Meru 2024-03-07  \n",
       "5            0.0   Nakuru 2024-03-07  \n",
       "6            0.0  Nairobi 2024-03-07  \n",
       "7          990.0   Nakuru 2024-03-06  \n",
       "8            0.0   Nakuru 2024-03-05  \n",
       "9         1000.0    Nandi 2024-03-05  "
      ]
     },
     "execution_count": 10,
     "metadata": {},
     "output_type": "execute_result"
    }
   ],
   "source": [
    "df.head(10)"
   ]
  },
  {
   "cell_type": "code",
   "execution_count": 11,
   "metadata": {},
   "outputs": [
    {
     "data": {
      "text/plain": [
       "(2000, 9)"
      ]
     },
     "execution_count": 11,
     "metadata": {},
     "output_type": "execute_result"
    }
   ],
   "source": [
    "df.shape"
   ]
  },
  {
   "cell_type": "code",
   "execution_count": 12,
   "metadata": {},
   "outputs": [],
   "source": [
    "df.to_csv(r'cleaned_sample_agric_commodities.csv', index=False)"
   ]
  },
  {
   "cell_type": "code",
   "execution_count": null,
   "metadata": {},
   "outputs": [],
   "source": []
  }
 ],
 "metadata": {
  "kernelspec": {
   "display_name": "venv",
   "language": "python",
   "name": "python3"
  },
  "language_info": {
   "codemirror_mode": {
    "name": "ipython",
    "version": 3
   },
   "file_extension": ".py",
   "mimetype": "text/x-python",
   "name": "python",
   "nbconvert_exporter": "python",
   "pygments_lexer": "ipython3",
   "version": "3.12.1"
  }
 },
 "nbformat": 4,
 "nbformat_minor": 2
}
