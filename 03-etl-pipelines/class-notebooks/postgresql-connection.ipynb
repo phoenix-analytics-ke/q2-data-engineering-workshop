{
    "nbformat_minor": 1, 
    "cells": [
        {
            "cell_type": "markdown", 
            "metadata": {}, 
            "source": "### Connecting to PostgreSQL"
        }, 
        {
            "outputs": [], 
            "cell_type": "code", 
            "metadata": {
                "collapsed": true
            }, 
            "source": "# install https://pypi.python.org/pypi/psycopg2/\n#!pip install psycopg2", 
            "execution_count": null
        }, 
        {
            "outputs": [], 
            "cell_type": "code", 
            "metadata": {
                "collapsed": true
            }, 
            "source": "# http://initd.org/psycopg/docs/\nimport psycopg2", 
            "execution_count": null
        }, 
        {
            "outputs": [], 
            "cell_type": "code", 
            "metadata": {
                "collapsed": true
            }, 
            "source": "# TODO:\n# (1) add a PostgreSQL connection to this project\n# (2) use \"insert to code\" to insert database connection credentials into this cell\n# (3) rename the \"credentials_X\" variable to \"credentials\"\n# @hidden_cell\n", 
            "execution_count": null
        }, 
        {
            "outputs": [], 
            "cell_type": "code", 
            "metadata": {}, 
            "source": "# compose connection string\nconnstr = \"dbname='{}' user='{}' host='{}' port='{}' password='{}'\".format(\n    credentials['database'],\n    credentials['username'],\n    credentials['host'],\n    credentials['port'],\n    credentials['password'])\n\n# display connection string\nconnstr", 
            "execution_count": null
        }, 
        {
            "outputs": [], 
            "cell_type": "code", 
            "metadata": {}, 
            "source": "# try to connect\ntry:\n    conn = psycopg2.connect(connstr)\n    print \"Connection: OK\"\nexcept Exception as e:\n    print \"Connection: ERROR - {}\".format(e)", 
            "execution_count": null
        }, 
        {
            "outputs": [], 
            "cell_type": "code", 
            "metadata": {}, 
            "source": "# run a SQL statement\ntry:\n    with conn.cursor() as cursor:\n        cursor.execute(\"SELECT COUNT(*) FROM INFORMATION_SCHEMA.TABLES\",)\n        result = cursor.fetchone()\n        print 'Number of tables in this database: {}'.format(result[0])\nexcept Exception as e:\n    print \"Query: ERROR - {}\".format(e)", 
            "execution_count": null
        }, 
        {
            "outputs": [], 
            "cell_type": "code", 
            "metadata": {}, 
            "source": "conn.close()", 
            "execution_count": null
        }
    ], 
    "metadata": {
        "kernelspec": {
            "display_name": "Python 2 with Spark 2.1", 
            "name": "python2-spark21", 
            "language": "python"
        }, 
        "language_info": {
            "nbconvert_exporter": "python", 
            "file_extension": ".py", 
            "version": "2.7.11", 
            "name": "python", 
            "mimetype": "text/x-python", 
            "codemirror_mode": {
                "name": "ipython", 
                "version": 2
            }, 
            "pygments_lexer": "ipython2"
        }
    }, 
    "nbformat": 4
}