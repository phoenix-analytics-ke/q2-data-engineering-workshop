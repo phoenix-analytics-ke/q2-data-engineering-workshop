{
 "cells": [
  {
   "cell_type": "code",
   "execution_count": 1,
   "metadata": {},
   "outputs": [],
   "source": [
    "import logging\n",
    "import requests\n",
    "import json\n",
    "\n",
    "# Create a logger \n",
    "logger = logging.getLogger('etl_logger') \n",
    "logger.setLevel(logging.INFO) \n",
    "file_handler = logging.FileHandler('etl_log.log') \n",
    "formatter = logging.Formatter('%(asctime)s - %(name)s - %(levelname)s - %(message)s') \n",
    "file_handler.setFormatter(formatter) \n",
    "logger.addHandler(file_handler) "
   ]
  },
  {
   "cell_type": "code",
   "execution_count": 2,
   "metadata": {},
   "outputs": [],
   "source": [
    "from pydantic import BaseModel\n",
    "\n",
    "class Cleveland(BaseModel):\n",
    "    nationality: str\n",
    "    birth_year: int\n",
    "    death_year: int"
   ]
  },
  {
   "cell_type": "code",
   "execution_count": 3,
   "metadata": {},
   "outputs": [],
   "source": [
    "vals = Cleveland(nationality='english',birth_year=1960 ,death_year=2020)"
   ]
  },
  {
   "cell_type": "code",
   "execution_count": 4,
   "metadata": {},
   "outputs": [],
   "source": [
    "import requests\n",
    "import logging\n",
    "\n",
    "def assignment_cleveland(value):\n",
    "    try:\n",
    "        logger.info('Assignment of Cleveland data')\n",
    "        nationality = value.nationality\n",
    "        birth_year = value.birth_year\n",
    "        death_year = value.death_year\n",
    "        \n",
    "        api = f\"https://openaccess-api.clevelandart.org/api/creators/?nationality={nationality}&birth_year_after={birth_year}&death_year_before={death_year}\"\n",
    "        response = requests.get(api)\n",
    "        response.raise_for_status()  # Raise an error for bad status codes\n",
    "        \n",
    "        json_data = response.json()\n",
    "        return json_data\n",
    "    except requests.exceptions.RequestException as e:\n",
    "        logger.error(f\"Request failed: {e}\")\n",
    "        return None\n",
    "    except Exception as e:\n",
    "        logger.error(f\"An error occurred: {e}\")\n",
    "        return None\n"
   ]
  },
  {
   "cell_type": "code",
   "execution_count": 5,
   "metadata": {},
   "outputs": [
    {
     "data": {
      "text/plain": [
       "{'info': {'total': 0,\n",
       "  'parameters': {'nationality': 'english',\n",
       "   'birth_year_after': 1960,\n",
       "   'death_year_before': 2020,\n",
       "   'skip': 0,\n",
       "   'limit': 100}},\n",
       " 'data': []}"
      ]
     },
     "execution_count": 5,
     "metadata": {},
     "output_type": "execute_result"
    }
   ],
   "source": [
    "assignment_cleveland(vals)"
   ]
  },
  {
   "cell_type": "code",
   "execution_count": null,
   "metadata": {},
   "outputs": [],
   "source": []
  }
 ],
 "metadata": {
  "kernelspec": {
   "display_name": "venv",
   "language": "python",
   "name": "python3"
  },
  "language_info": {
   "codemirror_mode": {
    "name": "ipython",
    "version": 3
   },
   "file_extension": ".py",
   "mimetype": "text/x-python",
   "name": "python",
   "nbconvert_exporter": "python",
   "pygments_lexer": "ipython3",
   "version": "3.12.1"
  }
 },
 "nbformat": 4,
 "nbformat_minor": 2
}
